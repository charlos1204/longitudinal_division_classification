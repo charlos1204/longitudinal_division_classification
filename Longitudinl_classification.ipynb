{
 "cells": [
  {
   "cell_type": "markdown",
   "metadata": {},
   "source": [
    "# <center> Efficient detection of longitudinal bacteria fission using transfer learning in Deep Neural Networks\n",
    "# <center> Supplemental Material"
   ]
  },
  {
   "cell_type": "markdown",
   "metadata": {},
   "source": [
    "Most rod-shaped bacteria divide perpendicularly (along the narrow axis). Some, however, divide longitudinally (along the long axis). Few species are known to do so. Here we create a model of longitudinal divison that can help experimentalist researches to classify such images."
   ]
  },
  {
   "cell_type": "markdown",
   "metadata": {},
   "source": [
    "## Training code for longitudinal division classification\n",
    "\n",
    "#### Requirements:\n",
    " * GPU\n",
    " * Nvidia driver\n",
    " * cuda version > 10\n",
    " * cython\n",
    " * opencv-python\n",
    " * tqdm\n",
    " * torchsummary\n",
    " * matplotlib\n",
    " * pandas\n",
    " * scipy\n",
    " * joblib\n",
    " * scikit-learn\n",
    " * jupyterlab\n",
    " * torch\n",
    " * torchvision\n",
    " * torchaudio\n",
    " * numpy\n",
    "\n",
    "#### Folders\n",
    " * data: contains all image samples in the folders train, validation and test. \n",
    " * model: where the trained model will be saved\n",
    " * fake_samples: fake bacteria images of longitudinal division to predict on unseen images.\n",
    " * samples: bacteria images to predict the class\n",
    " \n",
    "#### train_functions_sgd.py code contains all functions that are called in the main function. Do not remove or delete this file."
   ]
  },
  {
   "cell_type": "markdown",
   "metadata": {},
   "source": [
    "Main code for training a pretrained resnet18 network to classify microscopy images of longitudinal division bacteria.\n",
    "\n",
    "The code is based on transfer learning for computer vision. The original code can be [here](https://pytorch.org/tutorials/beginner/transfer_learning_tutorial.html)\n",
    "\n",
    "* runtraining() main function to perform the training of a binary classifier (0,1)\n",
    "* data: Contains the folders train, val and test\n",
    "* train, val, test: Are folders with image samples to train the model.\n",
    "* model: Is the folder where the trained model will be save\n",
    "\n",
    "========== How to run in terminal ==========\n",
    "\n",
    "Copy and paste the code into a file called train_model.py, then run in a terminal:\n",
    "\n",
    "`python train_model.py`\n",
    "\n",
    "============================================"
   ]
  },
  {
   "cell_type": "code",
   "execution_count": null,
   "metadata": {},
   "outputs": [],
   "source": [
    "from __future__ import print_function, division\n",
    "import numpy as np\n",
    "import torch\n",
    "import torchvision\n",
    "import torch.optim as optim\n",
    "from torch.optim import lr_scheduler\n",
    "from torchvision import datasets, models, transforms\n",
    "from torch.utils.data import Dataset, DataLoader\n",
    "import os\n",
    "import torch.nn as nn\n",
    "import train_functions_sgd as trnfn\n",
    "import time\n",
    "from sklearn.metrics import confusion_matrix, classification_report, accuracy_score\n",
    "import sys"
   ]
  },
  {
   "cell_type": "markdown",
   "metadata": {},
   "source": [
    "### Function for making the training"
   ]
  },
  {
   "cell_type": "code",
   "execution_count": null,
   "metadata": {},
   "outputs": [],
   "source": [
    "def runtraining():\n",
    "    print('processing data')\n",
    "    \n",
    "    # data transformations to prepare the images for training\n",
    "    data_transforms = {\n",
    "        'train': transforms.Compose([\n",
    "            transforms.Resize((128, 128)),\n",
    "            transforms.RandomHorizontalFlip(),\n",
    "            transforms.RandomVerticalFlip(),\n",
    "            transforms.ToTensor(),\n",
    "            transforms.Normalize([0.485, 0.456, 0.406], [0.229, 0.224, 0.225])\n",
    "        ]),\n",
    "        'val': transforms.Compose([\n",
    "            transforms.Resize((128, 128)),\n",
    "            transforms.ToTensor(),\n",
    "            transforms.Normalize([0.485, 0.456, 0.406], [0.229, 0.224, 0.225])\n",
    "        ]),\n",
    "        'test': transforms.Compose([\n",
    "            transforms.Resize((128, 128)),\n",
    "            transforms.ToTensor(),\n",
    "            transforms.Normalize([0.485, 0.456, 0.406], [0.229, 0.224, 0.225])\n",
    "        ]),\n",
    "    }\n",
    "\n",
    "    data_dir = 'data/'\n",
    "\n",
    "    # image loader on batch of 16 images\n",
    "    # Note if you get an error memory change to a batch of 8 or 4\n",
    "    image_datasets = {x: datasets.ImageFolder(os.path.join(data_dir, x), data_transforms[x])\n",
    "                      for x in ['train', 'val', 'test']}\n",
    "    dataloaders = {x: torch.utils.data.DataLoader(image_datasets[x], batch_size=16, shuffle=True, num_workers=8)\n",
    "                      for x in ['train', 'val', 'test']}\n",
    "    dataset_sizes = {x: len(image_datasets[x]) for x in ['train', 'val', 'test']}\n",
    "    \n",
    "    # extract the classes label: 0 and 1\n",
    "    class_names = image_datasets['train'].classes\n",
    "\n",
    "    # setting up the device to train in CPU or GPU\n",
    "    # if torch doesn't find a GPU available it will run on the CPU\n",
    "    device = torch.device(\"cuda:0\" if torch.cuda.is_available() else \"cpu\")\n",
    "    print(f'Device: {device} / Dataset_size: {dataset_sizes}')\n",
    "\n",
    "    # prepare for training\n",
    "    # setting a pretrained resnet18.\n",
    "    # nn.Lienear(in_features, out_features): \n",
    "    # applies a linear transformation to the incoming data (features) to out features\n",
    "    # the features are extracted from the pretrained resnet18 into 2 features. \n",
    "    model_ft = models.resnet18(pretrained=True)\n",
    "    num_ftrs = model_ft.fc.in_features\n",
    "    model_ft.fc = nn.Linear(num_ftrs, 2)\n",
    "    model_ft = model_ft.to(device)\n",
    "\n",
    "    # Setting up the type of loss function to optimize the model during training.\n",
    "    criterion = nn.CrossEntropyLoss()\n",
    "\n",
    "    # Setting up the optimizer function.\n",
    "    # Observe that all parameters are being optimized\n",
    "    optimizer_ft = optim.SGD(model_ft.parameters(), lr=0.001, momentum=0.9)\n",
    "\n",
    "    # Decay LR by a factor of 0.1 every 7 epochs\n",
    "    exp_lr_scheduler = lr_scheduler.StepLR(optimizer_ft, step_size=7, gamma=0.1)\n",
    "\n",
    "    \n",
    "    # training function\n",
    "    # train_model:\n",
    "    #             model_ft: defined model (Resnet18)\n",
    "    #             criterion: cross entropy loss function\n",
    "    #             optimizer_ft: optimization algorithm Stochastic Gradient Descent (SGD)\n",
    "    #             exp_lr_scheduler: decay LR by a factor\n",
    "    #             dataloaders: batch of images, 16 images per batch\n",
    "    #             dataset_sizes: size of train and val samples\n",
    "    #             device: GPU or CPU\n",
    "    #             num_epochs: number of epochs to train in the data\n",
    "    model_ft = trnfn.train_model(model_ft, criterion, optimizer_ft, \n",
    "                                 exp_lr_scheduler, dataloaders, \n",
    "                                 dataset_sizes, device, num_epochs=25)\n",
    "\n",
    "    # Save model\n",
    "    torch.save(model_ft.state_dict(), \"model/trained_net_sgd_pre-25.pth\")\n",
    "  \n",
    "    y_true, y_pred = trnfn.test_model(model_ft, criterion, device, dataloaders, dataset_sizes)\n",
    "    y_pred = y_pred\n",
    "    y_pred = y_pred\n",
    "\n",
    "    print(\"accuracy score: \",\"%.6f\" % accuracy_score(y_true, y_pred),\"\\n\")\n",
    "    print(\"confusion matrix:\")\n",
    "    print(confusion_matrix(y_true, y_pred),\"\\n\")\n",
    "    print(\"classification report:\")\n",
    "    print(classification_report(y_true, y_pred, digits=6))\n"
   ]
  },
  {
   "cell_type": "markdown",
   "metadata": {},
   "source": [
    "### Running the training "
   ]
  },
  {
   "cell_type": "code",
   "execution_count": null,
   "metadata": {},
   "outputs": [],
   "source": [
    "\"\"\"\"\n",
    "setting a random seed for reproducibility\n",
    "however, Pytorch state:\n",
    "\n",
    "\"Completely reproducible results are not guaranteed across PyTorch releases, \n",
    "individual commits, or different platforms. Furthermore, results may not be \n",
    "reproducible between CPU and GPU executions, even when using identical seeds.\"\n",
    "\n",
    "\"\"\"\"\n",
    "np.random.seed(1234)\n",
    "\n",
    "runtraining()"
   ]
  },
  {
   "cell_type": "markdown",
   "metadata": {},
   "source": [
    "# Test the model"
   ]
  },
  {
   "cell_type": "markdown",
   "metadata": {},
   "source": [
    "**Test the model with the test dataset**\n",
    "\n",
    "* For the class 0 (longitudinal division) there are 741 images\n",
    "* For the class 1 (other division) there are 4240 images\n",
    "\n",
    "========== How to run in terminal ==========\n",
    "\n",
    "Copy and paste the code into a file called test_model.py, then run in a terminal:\n",
    "\n",
    "`python test_model.py`\n",
    "\n",
    "============================================"
   ]
  },
  {
   "cell_type": "code",
   "execution_count": 1,
   "metadata": {},
   "outputs": [],
   "source": [
    "import torch\n",
    "import torchvision\n",
    "from torchvision import datasets, models, transforms\n",
    "from torch.utils.data import DataLoader\n",
    "import os\n",
    "import torch.nn as nn\n",
    "import train_functions_sgd as trnfn\n",
    "from sklearn.metrics import confusion_matrix, classification_report, accuracy_score"
   ]
  },
  {
   "cell_type": "code",
   "execution_count": 2,
   "metadata": {},
   "outputs": [],
   "source": [
    "# Transform images into Tensors\n",
    "# all images will be resize to a 128 x 128 (width,height)\n",
    "# convert to tensors and normalize\n",
    "data_transforms = {\n",
    "    'test': transforms.Compose([\n",
    "        transforms.Resize((128, 128)),\n",
    "        transforms.ToTensor(),\n",
    "        transforms.Normalize([0.485, 0.456, 0.406], [0.229, 0.224, 0.225])\n",
    "    ]),\n",
    "}\n"
   ]
  },
  {
   "cell_type": "code",
   "execution_count": 5,
   "metadata": {},
   "outputs": [
    {
     "name": "stdout",
     "output_type": "stream",
     "text": [
      "Device: cpu / Dataset_size: {'test': 4981}\n"
     ]
    }
   ],
   "source": [
    "# Load the data to test the model\n",
    "\n",
    "data_dir = 'data/'\n",
    "\n",
    "image_datasets = {x: datasets.ImageFolder(os.path.join(data_dir, x), data_transforms[x]) for x in ['test']}\n",
    "dataloaders = {x: DataLoader(image_datasets[x], batch_size=16, shuffle=True, num_workers=8) for x in ['test']}\n",
    "dataset_sizes = {x: len(image_datasets[x]) for x in ['test']}\n",
    "\n",
    "# Setting the device GPU or CPU\n",
    "device = torch.device(\"cuda\" if torch.cuda.is_available() else \"cpu\")\n",
    "print(f'Device: {device} / Dataset_size: {dataset_sizes}')"
   ]
  },
  {
   "cell_type": "code",
   "execution_count": 6,
   "metadata": {},
   "outputs": [],
   "source": [
    "# Load model\n",
    "criterion = nn.CrossEntropyLoss()\n",
    "model_ft = models.resnet18(pretrained=True)\n",
    "num_ftrs = model_ft.fc.in_features\n",
    "\n",
    "if torch.cuda.is_available():\n",
    "    map_location=lambda storage, loc: storage.cuda()\n",
    "else:\n",
    "    map_location='cpu'\n",
    "\n",
    "# Each output sample is set to 2.\n",
    "model_ft.fc = nn.Linear(num_ftrs, 2)\n",
    "model_ft.load_state_dict(torch.load(\"model/trained_net_sgd_pre-25.pth\", map_location=map_location))\n",
    "model_ft.to(device);\n"
   ]
  },
  {
   "cell_type": "code",
   "execution_count": 7,
   "metadata": {},
   "outputs": [
    {
     "name": "stdout",
     "output_type": "stream",
     "text": [
      "Test Loss: 0.0088\n",
      "Test Acc: 0.9968\n",
      "accuracy score:  0.996788 \n",
      "\n",
      "confusion matrix:\n",
      "[[ 735    6]\n",
      " [  10 4230]] \n",
      "\n",
      "classification report:\n",
      "              precision    recall  f1-score   support\n",
      "\n",
      "           0   0.986577  0.991903  0.989233       741\n",
      "           1   0.998584  0.997642  0.998112      4240\n",
      "\n",
      "    accuracy                       0.996788      4981\n",
      "   macro avg   0.992580  0.994772  0.993673      4981\n",
      "weighted avg   0.996797  0.996788  0.996791      4981\n",
      "\n"
     ]
    }
   ],
   "source": [
    "# Run predict on the test images\n",
    "# depending on the hardware will be the time it takes to run the test\n",
    "y_true, y_pred = trnfn.test_model(model_ft, criterion, device, dataloaders, dataset_sizes,'test')\n",
    "y_pred = y_pred\n",
    "y_pred = y_pred\n",
    "\n",
    "acc_sc = accuracy_score(y_true, y_pred)\n",
    "\n",
    "print(\"accuracy score: \",\"%.6f\" % acc_sc,\"\\n\")\n",
    "print(\"confusion matrix:\")\n",
    "print(confusion_matrix(y_true, y_pred),\"\\n\")\n",
    "print(\"classification report:\")\n",
    "print(classification_report(y_true, y_pred, digits=6))"
   ]
  },
  {
   "cell_type": "markdown",
   "metadata": {},
   "source": [
    "# Predict division type"
   ]
  },
  {
   "cell_type": "markdown",
   "metadata": {},
   "source": [
    "**Predict on fake longitudinal division bacteria**\n",
    "\n",
    "The prediction class must be other division (class 1)\n",
    "\n",
    "\n",
    "========== How to run in terminal ==========\n",
    "\n",
    "Copy and paste the code into a file called predict_class.py, then run in a terminal:\n",
    "\n",
    "`python predict_class.py`\n",
    "\n",
    "============================================"
   ]
  },
  {
   "cell_type": "code",
   "execution_count": 8,
   "metadata": {},
   "outputs": [],
   "source": [
    "import torch\n",
    "import torchvision\n",
    "from torchvision import models, transforms\n",
    "from torch.utils.data import DataLoader\n",
    "import os\n",
    "import torch.nn as nn\n",
    "import matplotlib.pyplot as plt\n",
    "from PIL import Image"
   ]
  },
  {
   "cell_type": "code",
   "execution_count": 9,
   "metadata": {},
   "outputs": [],
   "source": [
    "# Reading content from folder \"fake_samples\"\n",
    "# To test on unseen images during the training, we create 6 fake bacteria division\n",
    "\n",
    "path = 'fake_samples/'\n",
    "dirpath = os.path.dirname(os.path.realpath(path)) +\"/\"+path\n",
    "\n",
    "# Read file names into array to load the images to predict their class\n",
    "fake_samples_fn= []\n",
    "with os.scandir(path) as it:\n",
    "    for entry in it:\n",
    "        if not entry.name.startswith('.') and entry.is_file():\n",
    "            fake_samples_fn.append(entry.name)"
   ]
  },
  {
   "cell_type": "code",
   "execution_count": 10,
   "metadata": {},
   "outputs": [],
   "source": [
    "# Transform images into Tensors\n",
    "# all images will be resize to a 128 x 128 (width,height)\n",
    "# convert to tensors and normalize\n",
    "data_transforms = transforms.Compose([\n",
    "        transforms.Resize((128, 128)),\n",
    "        transforms.ToTensor(),\n",
    "        transforms.Normalize([0.485, 0.456, 0.406], [0.229, 0.224, 0.225])\n",
    "    ])\n"
   ]
  },
  {
   "cell_type": "code",
   "execution_count": 11,
   "metadata": {},
   "outputs": [
    {
     "data": {
      "image/png": "[encoded data removed]",
      "text/plain": [
       "<Figure size 720x576 with 6 Axes>"
      ]
     },
     "metadata": {
      "needs_background": "light"
     },
     "output_type": "display_data"
    }
   ],
   "source": [
    "# Array of tensors\n",
    "data_tensors=[]\n",
    "\n",
    "# Show images to predict their class (fake images of bacteria)\n",
    "fig = plt.figure(figsize=(10, 8))\n",
    "for i in range(len(fake_samples_fn)):\n",
    "    img = Image.open(dirpath+fake_samples_fn[i]).convert('RGB')\n",
    "    data_tensors.append(data_transforms(img))\n",
    "    plt.subplot(2,3,i+1).set_title(fake_samples_fn[i])\n",
    "    plt.imshow(img)"
   ]
  },
  {
   "cell_type": "code",
   "execution_count": 12,
   "metadata": {},
   "outputs": [
    {
     "name": "stdout",
     "output_type": "stream",
     "text": [
      "Device: cpu\n",
      "Predicted: class=1 file=fake_4.png\n",
      "Predicted: class=1 file=fake_3.png\n",
      "Predicted: class=1 file=fake_2.png\n",
      "Predicted: class=1 file=fake_6.png\n",
      "Predicted: class=0 file=fake_5.png\n",
      "Predicted: class=1 file=fake_1.png\n"
     ]
    }
   ],
   "source": [
    "# Predict the class of the fake images\n",
    "\n",
    "device = torch.device(\"cuda:0\" if torch.cuda.is_available() else \"cpu\")\n",
    "print(f'Device: {device}')\n",
    "\n",
    "if torch.cuda.is_available():\n",
    "    map_location=lambda storage, loc: storage.cuda()\n",
    "else:\n",
    "    map_location='cpu'\n",
    "\n",
    "# Load model\n",
    "# Here the size of each output sample is set to 2.\n",
    "model_ft = models.resnet18(pretrained=True)\n",
    "num_ftrs = model_ft.fc.in_features\n",
    "model_ft.fc = nn.Linear(num_ftrs, 2)\n",
    "model_ft.load_state_dict(torch.load(\"model/trained_net_sgd_pre-25.pth\", map_location=map_location))\n",
    "\n",
    "dataloaders = DataLoader(data_tensors, batch_size=1, shuffle=False)\n",
    "\n",
    "model_ft.eval()\n",
    "\n",
    "i=0\n",
    "for inputs in dataloaders:\n",
    "    inputs = inputs.to(device)\n",
    "    with torch.no_grad():\n",
    "        outputs = model_ft(inputs)\n",
    "        # retrieve numpy array\n",
    "        _, preds = torch.max(outputs, 1)\n",
    "        preds = preds.detach().numpy()\n",
    "        print('Predicted: class=%d file=%s' % (preds.round(), fake_samples_fn[i]))\n",
    "    i += 1\n"
   ]
  },
  {
   "cell_type": "markdown",
   "metadata": {},
   "source": [
    "**Predict on unseen division bacteria**\n",
    "\n",
    "The prediction class must be:\n",
    "\n",
    "* longitudinal division (class 0)\n",
    "* other division (class 1)"
   ]
  },
  {
   "cell_type": "code",
   "execution_count": 13,
   "metadata": {},
   "outputs": [],
   "source": [
    "# Reading content from folder \"samples\"\n",
    "# To test on unseen images during the training\n",
    "\n",
    "path_samples = 'samples/'\n",
    "dirpath = os.path.dirname(os.path.realpath(path_samples)) +\"/\"+path_samples\n",
    "\n",
    "# Read file names into array to load the images to predict their class\n",
    "samples_fn= []\n",
    "with os.scandir(path_samples) as it:\n",
    "    for entry in it:\n",
    "        if not entry.name.startswith('.') and entry.is_file():\n",
    "            samples_fn.append(entry.name)"
   ]
  },
  {
   "cell_type": "code",
   "execution_count": 14,
   "metadata": {},
   "outputs": [
    {
     "data": {
      "image/png": "[encoded data removed]",
      "text/plain": [
       "<Figure size 1080x360 with 12 Axes>"
      ]
     },
     "metadata": {
      "needs_background": "light"
     },
     "output_type": "display_data"
    }
   ],
   "source": [
    "# Show the first 12 images of bacteria\n",
    "fig = plt.figure(figsize=(15, 5))\n",
    "for i in range(12):\n",
    "    img = Image.open(dirpath+samples_fn[i]).convert('RGB')\n",
    "    plt.subplot(2,6,i+1)\n",
    "    plt.imshow(img)"
   ]
  },
  {
   "cell_type": "code",
   "execution_count": 15,
   "metadata": {},
   "outputs": [
    {
     "name": "stdout",
     "output_type": "stream",
     "text": [
      "Predicted: class=0 file=longdiv_train_80.jpg\n",
      "Predicted: class=0 file=longdiv_train_82.jpg\n",
      "Predicted: class=0 file=longdiv_val_6.jpg\n",
      "Predicted: class=0 file=longdiv_train_69.jpg\n",
      "Predicted: class=1 file=Catasp1s_WGA_170228_004_bact_22561.png\n",
      "Predicted: class=0 file=longdiv_train_20.jpg\n",
      "Predicted: class=1 file=Catasp1s_WGA_170228_004_bact_27638.png\n",
      "Predicted: class=0 file=longdiv_train_44.jpg\n",
      "Predicted: class=0 file=longdiv_val_11.jpg\n",
      "Predicted: class=0 file=longdiv_train_21.jpg\n",
      "Predicted: class=1 file=Catasp1s_WGA_170228_004_bact_24261.png\n",
      "Predicted: class=0 file=longdiv_train_10.jpg\n",
      "Predicted: class=1 file=Catasp1s_WGA_170228_001_bact_72.png\n",
      "Predicted: class=1 file=Catasp1s_WGA_170228_029_bact_2442.png\n",
      "Predicted: class=0 file=longdiv_train_75.jpg\n",
      "Predicted: class=0 file=Toneisti_oriC_1_161017_095_bact_3856.png\n",
      "Predicted: class=0 file=longdiv_train_72.jpg\n",
      "Predicted: class=1 file=Catasp1s_WGA_170228_013_bact_1962.png\n",
      "Predicted: class=1 file=Catasp1s_WGA_170228_001_bact_30.png\n",
      "Predicted: class=1 file=Catasp1s_WGA_170228_029_bact_1346.png\n",
      "Predicted: class=1 file=Catasp1s_WGA_170228_004_bact_33729.png\n",
      "Predicted: class=1 file=Catasp1s_WGA_170228_004_bact_5403.png\n",
      "Predicted: class=0 file=Toneisti_oriC_1_161017_093.rgb_bact_15766.png\n",
      "Predicted: class=1 file=Catasp1s_WGA_170228_013_bact_1969.png\n",
      "Predicted: class=0 file=Toneisti_oriC_1_161017_093_bact_16329.png\n",
      "Predicted: class=0 file=longdiv_train_55.jpg\n",
      "Predicted: class=0 file=longdiv_train_15.jpg\n",
      "Predicted: class=0 file=longdiv_val_3.jpg\n",
      "Predicted: class=0 file=longdiv_train_5.jpg\n",
      "Predicted: class=0 file=longdiv_train_23.jpg\n",
      "Predicted: class=0 file=Toneisti_oriC_1_161017_095_bact_3767.png\n",
      "Predicted: class=0 file=longdiv_train_83.jpg\n",
      "Predicted: class=0 file=Toneisti_oriC_1_161017_095_bact_4405.png\n",
      "Predicted: class=1 file=Catasp1s_WGA_170228_029_bact_1200.png\n",
      "Predicted: class=0 file=Toneisti_oriC_1_161017_097.rgb_bact_23286.png\n",
      "Predicted: class=0 file=longdiv_val_9.jpg\n",
      "Predicted: class=1 file=Catasp1s_WGA_170228_013_bact_2034.png\n",
      "Predicted: class=0 file=longdiv_train_29.jpg\n",
      "Predicted: class=1 file=Catasp1s_WGA_170228_001_bact_54.png\n",
      "Predicted: class=0 file=longdiv_train_74.jpg\n",
      "Predicted: class=1 file=Catasp1s_WGA_170228_007_bact_2425.png\n",
      "Predicted: class=1 file=Catasp1s_WGA_170228_013_bact_2040.png\n",
      "Predicted: class=0 file=Toneisti_oriC_1_161017_095.rgb_bact_20573.png\n",
      "Predicted: class=0 file=longdiv_train_64.jpg\n",
      "Predicted: class=1 file=Catasp1s_WGA_170228_004_bact_7971.png\n",
      "Predicted: class=0 file=longdiv_train_35.jpg\n",
      "Predicted: class=0 file=Toneisti_oriC_1_161017_095.rgb_bact_8668.png\n",
      "Predicted: class=0 file=longdiv_train_57.jpg\n",
      "Predicted: class=0 file=Toneisti_oriC_1_161017_097_bact_2496.png\n",
      "Predicted: class=1 file=Catasp1s_WGA_170228_004_bact_47230.png\n",
      "Predicted: class=1 file=Catasp1s_WGA_170228_004_bact_25084.png\n",
      "Predicted: class=0 file=Toneisti_oriC_1_161017_095_bact_15026.png\n",
      "Predicted: class=0 file=longdiv_train_27.jpg\n",
      "Predicted: class=1 file=Catasp1s_WGA_170228_004_bact_26943.png\n",
      "Predicted: class=1 file=Catasp1s_WGA_170228_001_bact_65.png\n",
      "Predicted: class=1 file=Catasp1s_WGA_170228_013_bact_1886.png\n",
      "Predicted: class=0 file=longdiv_train_45.jpg\n",
      "Predicted: class=0 file=longdiv_val_8.jpg\n",
      "Predicted: class=1 file=Catasp1s_WGA_170228_010_bact_2525.png\n",
      "Predicted: class=0 file=Toneisti_oriC_1_161017_097.rgb_bact_21801.png\n",
      "Predicted: class=1 file=Catasp1s_WGA_170228_004_bact_19658.png\n",
      "Predicted: class=0 file=longdiv_train_70.jpg\n",
      "Predicted: class=1 file=Catasp1s_WGA_170228_004_bact_17374.png\n",
      "Predicted: class=0 file=longdiv_train_42.jpg\n",
      "Predicted: class=1 file=Catasp1s_WGA_170228_004_bact_29985.png\n",
      "Predicted: class=1 file=Catasp1s_WGA_170228_004_bact_43198.png\n",
      "Predicted: class=1 file=Catasp1s_WGA_170228_010_bact_3318.png\n",
      "Predicted: class=1 file=Catasp1s_WGA_170228_013_bact_1273.png\n",
      "Predicted: class=0 file=longdiv_train_51.jpg\n",
      "Predicted: class=0 file=longdiv_train_26.jpg\n",
      "Predicted: class=1 file=Catasp1s_WGA_170228_029_bact_1234.png\n",
      "Predicted: class=0 file=Toneisti_oriC_1_161017_091_bact_16428.png\n",
      "Predicted: class=0 file=longdiv_train_50.jpg\n",
      "Predicted: class=0 file=longdiv_train_56.jpg\n",
      "Predicted: class=0 file=longdiv_train_13.jpg\n",
      "Predicted: class=0 file=longdiv_train_73.jpg\n",
      "Predicted: class=0 file=longdiv_val_4.jpg\n",
      "Predicted: class=0 file=longdiv_train_76.jpg\n",
      "Predicted: class=0 file=longdiv_val_12.jpg\n",
      "Predicted: class=0 file=longdiv_train_81.jpg\n"
     ]
    }
   ],
   "source": [
    "# Array of tensors\n",
    "data_tensors=[]\n",
    "\n",
    "# add tensors to the data_tensors array to be predicted\n",
    "for i in range(len(samples_fn)):\n",
    "    img = Image.open(dirpath+samples_fn[i]).convert('RGB')\n",
    "    data_tensors.append(data_transforms(img))\n",
    "\n",
    "dataloaders = DataLoader(data_tensors, batch_size=1, shuffle=False)\n",
    "\n",
    "model_ft.eval()\n",
    "\n",
    "for i, inputs in enumerate(dataloaders):\n",
    "    inputs = inputs.to(device)\n",
    "    with torch.no_grad():\n",
    "        outputs = model_ft(inputs)\n",
    "       # retrieve numpy array\n",
    "        _, preds = torch.max(outputs, 1)\n",
    "        preds = preds.detach().numpy()\n",
    "        print('Predicted: class=%d file=%s' % (preds.round(), samples_fn[i]))\n"
   ]
  },
  {
   "cell_type": "code",
   "execution_count": null,
   "metadata": {},
   "outputs": [],
   "source": []
  }
 ],
 "metadata": {
  "kernelspec": {
   "display_name": "Python 3",
   "language": "python",
   "name": "python3"
  },
  "language_info": {
   "codemirror_mode": {
    "name": "ipython",
    "version": 3
   },
   "file_extension": ".py",
   "mimetype": "text/x-python",
   "name": "python",
   "nbconvert_exporter": "python",
   "pygments_lexer": "ipython3",
   "version": "3.8.5"
  }
 },
 "nbformat": 4,
 "nbformat_minor": 4
}
